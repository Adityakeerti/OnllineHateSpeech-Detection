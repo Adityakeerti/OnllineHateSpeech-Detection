{
 "cells": [
  {
   "cell_type": "code",
   "execution_count": 182,
   "metadata": {},
   "outputs": [],
   "source": [
    "import pandas as pd\n",
    "import re\n",
    "from sklearn.model_selection import train_test_split\n",
    "from sklearn.feature_extraction.text import TfidfVectorizer\n",
    "from sklearn.linear_model import LogisticRegression\n",
    "from sklearn.metrics import classification_report, accuracy_score"
   ]
  },
  {
   "cell_type": "code",
   "execution_count": 183,
   "metadata": {},
   "outputs": [],
   "source": [
    "data = pd.read_csv(\"hate_Data.csv\")"
   ]
  },
  {
   "cell_type": "code",
   "execution_count": 184,
   "metadata": {},
   "outputs": [],
   "source": [
    "def clean_text(text):\n",
    "    text = text.lower()\n",
    "    text = re.sub(r\"http\\S+|www\\S+|https\\S+\", \"\", text)  # Remove URLs\n",
    "    text = re.sub(r\"@\\w+\", \"\", text)  # Remove mentions\n",
    "    text = re.sub(r'[^a-z0-9\\s]', '', text)  # Remove non-alphanumeric\n",
    "    text = re.sub(r'\\s+', ' ', text).strip()  # Remove extra spaces\n",
    "    return text"
   ]
  },
  {
   "cell_type": "code",
   "execution_count": 185,
   "metadata": {},
   "outputs": [],
   "source": [
    "data['tweet'] = data['tweet'].apply(clean_text)\n",
    "data['class'] = data['class'].astype(int)\n"
   ]
  },
  {
   "cell_type": "code",
   "execution_count": 186,
   "metadata": {},
   "outputs": [
    {
     "name": "stdout",
     "output_type": "stream",
     "text": [
      "   count  hate_speech  offensive_language  neither  class  \\\n",
      "0      3            0                   0        3      2   \n",
      "1      3            0                   3        0      1   \n",
      "2      3            0                   3        0      1   \n",
      "3      3            0                   2        1      1   \n",
      "4      6            0                   6        0      1   \n",
      "\n",
      "                                               tweet  \n",
      "0  rt as a woman you shouldnt complain about clea...  \n",
      "1  rt boy dats coldtyga dwn bad for cuffin dat ho...  \n",
      "2  rt dawg rt you ever fuck a bitch and she start...  \n",
      "3                          rt she look like a tranny  \n",
      "4  rt the shit you hear about me might be true or...  \n"
     ]
    }
   ],
   "source": [
    "print(data.head())"
   ]
  },
  {
   "cell_type": "code",
   "execution_count": 187,
   "metadata": {},
   "outputs": [],
   "source": [
    "vectorizer = TfidfVectorizer(max_features=5000,ngram_range=(1, 2), stop_words='english')\n",
    "X = vectorizer.fit_transform(data['tweet'])\n",
    "y = data['class']"
   ]
  },
  {
   "cell_type": "code",
   "execution_count": 188,
   "metadata": {},
   "outputs": [
    {
     "name": "stdout",
     "output_type": "stream",
     "text": [
      "Accuracy: 84.14363526326407\n",
      "                    precision    recall  f1-score   support\n",
      "\n",
      "       Hate Speech       0.30      0.60      0.39       290\n",
      "Offensive Language       0.97      0.84      0.90      3832\n",
      "           Neither       0.74      0.91      0.82       835\n",
      "\n",
      "          accuracy                           0.84      4957\n",
      "         macro avg       0.67      0.78      0.71      4957\n",
      "      weighted avg       0.89      0.84      0.86      4957\n",
      "\n"
     ]
    }
   ],
   "source": [
    "\n",
    "X_train,X_test,y_train,y_test = train_test_split(X,y,test_size=0.2,random_state=42)\n",
    "model = LogisticRegression(class_weight='balanced',max_iter=1000)\n",
    "model.fit(X_train,y_train)\n",
    "y_pred = model.predict(X_test)\n",
    "print(\"Accuracy:\", accuracy_score(y_test, y_pred)*100)\n",
    "\n",
    "print(classification_report(y_test, y_pred, target_names=['Hate Speech', 'Offensive Language', 'Neither']))\n"
   ]
  },
  {
   "cell_type": "code",
   "execution_count": 189,
   "metadata": {},
   "outputs": [],
   "source": [
    "pred_val = {0:\"Hate Speech\",1:\"Offensive Language\",2:\"Neither\"}"
   ]
  },
  {
   "cell_type": "code",
   "execution_count": 190,
   "metadata": {},
   "outputs": [],
   "source": [
    "def predict_hate_speech(tweet):\n",
    "    cleaned_tweet = clean_text(tweet)\n",
    "    vectorized_tweet = vectorizer.transform([cleaned_tweet])\n",
    "    prediction = model.predict(vectorized_tweet)[0]\n",
    "    # return class_mapping[prediction]\n",
    "    return pred_val[prediction]"
   ]
  },
  {
   "cell_type": "code",
   "execution_count": 191,
   "metadata": {},
   "outputs": [
    {
     "name": "stdout",
     "output_type": "stream",
     "text": [
      "Prediction: Neither\n",
      "\n"
     ]
    }
   ],
   "source": [
    "# while True:\n",
    "#     user_input = input(\"Enter text to check (or 'end' to exit): \")\n",
    "#     if user_input.lower() == 'end':\n",
    "#         break\n",
    "#     result = predict_hate_speech(user_input)\n",
    "#     print(f\"Prediction: {result}\\n\")"
   ]
  },
  {
   "cell_type": "code",
   "execution_count": 192,
   "metadata": {},
   "outputs": [
    {
     "name": "stdout",
     "output_type": "stream",
     "text": [
      "Testing Hate Speech Detection:\n",
      "Comment: I can't stand people with black skin! They should all disappear.\n",
      "Prediction: Hate Speech\n",
      "--------------------------------------------------\n",
      "Comment: You're worthless because of your race. Go back to where you came from.\n",
      "Prediction: Hate Speech\n",
      "--------------------------------------------------\n",
      "Comment: All muslims are terrorists and should be banned.\n",
      "Prediction: Hate Speech\n",
      "--------------------------------------------------\n",
      "Comment: You're such an idiot, you can't even do anything right!\n",
      "Prediction: Hate Speech\n",
      "--------------------------------------------------\n",
      "Comment: Shut up, you moron. Nobody cares about your opinion.\n",
      "Prediction: Neither\n",
      "--------------------------------------------------\n",
      "Comment: This project is shit and you are dumb!\n",
      "Prediction: Offensive Language\n",
      "--------------------------------------------------\n",
      "Comment: My name is Aditya, and I love programming.\n",
      "Prediction: Neither\n",
      "--------------------------------------------------\n",
      "Comment: This is a great day to go for a walk!\n",
      "Prediction: Neither\n",
      "--------------------------------------------------\n",
      "Comment: I think this topic is very interesting and deserves more attention.\n",
      "Prediction: Neither\n",
      "--------------------------------------------------\n"
     ]
    }
   ],
   "source": [
    "# # # List of test comments\n",
    "# test_comments = [\n",
    "#     # Hate Speech Examples\n",
    "#     \"I can't stand people with black skin! They should all disappear.\",\n",
    "#     \"You're worthless because of your race. Go back to where you came from.\",\n",
    "#     \"All muslims are terrorists and should be banned.\",\n",
    "    \n",
    "#     # Offensive Language Examples\n",
    "#     \"You're such an idiot, you can't even do anything right!\",\n",
    "#     \"Shut up, you moron. Nobody cares about your opinion.\",\n",
    "#     \"This project is shit and you are dumb!\",\n",
    "    \n",
    "#     # Neutral Comments\n",
    "#     \"My name is Aditya, and I love programming.\",\n",
    "#     \"This is a great day to go for a walk!\",\n",
    "#     \"I think this topic is very interesting and deserves more attention.\"\n",
    "# ]\n",
    "\n",
    "# # Check each comment and print the prediction\n",
    "# print(\"Testing Hate Speech Detection:\")\n",
    "# for comment in test_comments:\n",
    "#     prediction = predict_hate_speech(comment)\n",
    "#     print(f\"Comment: {comment}\")\n",
    "#     print(f\"Prediction: {prediction}\")\n",
    "#     print(\"-\" * 50)\n"
   ]
  },
  {
   "cell_type": "code",
   "execution_count": 193,
   "metadata": {},
   "outputs": [],
   "source": [
    "import pickle\n",
    "with open(\"hate_speech_model.pkl\",\"wb\") as model_file:\n",
    "    pickle.dump(model,model_file)\n",
    "    \n",
    "with open(\"tfidf_vectorizer.pkl\", \"wb\") as vectorizer_file:\n",
    "    pickle.dump(vectorizer, vectorizer_file)"
   ]
  },
  {
   "cell_type": "code",
   "execution_count": null,
   "metadata": {},
   "outputs": [],
   "source": []
  },
  {
   "cell_type": "code",
   "execution_count": null,
   "metadata": {},
   "outputs": [],
   "source": []
  }
 ],
 "metadata": {
  "kernelspec": {
   "display_name": "Python 3",
   "language": "python",
   "name": "python3"
  },
  "language_info": {
   "codemirror_mode": {
    "name": "ipython",
    "version": 3
   },
   "file_extension": ".py",
   "mimetype": "text/x-python",
   "name": "python",
   "nbconvert_exporter": "python",
   "pygments_lexer": "ipython3",
   "version": "3.11.9"
  }
 },
 "nbformat": 4,
 "nbformat_minor": 2
}
