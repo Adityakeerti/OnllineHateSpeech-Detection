{
 "cells": [
  {
   "cell_type": "code",
   "execution_count": 1,
   "metadata": {},
   "outputs": [],
   "source": [
    "import pandas as pd\n",
    "import re\n",
    "from sklearn.model_selection import train_test_split\n",
    "from sklearn.feature_extraction.text import TfidfVectorizer\n",
    "from sklearn.linear_model import LogisticRegression\n",
    "from sklearn.metrics import classification_report, accuracy_score"
   ]
  },
  {
   "cell_type": "code",
   "execution_count": 2,
   "metadata": {},
   "outputs": [],
   "source": [
    "data = pd.read_csv(\"hate_Data.csv\")"
   ]
  },
  {
   "cell_type": "code",
   "execution_count": 3,
   "metadata": {},
   "outputs": [],
   "source": [
    "def clean_text(text):\n",
    "    text = text.lower()\n",
    "    text = re.sub(r\"http\\S+|www\\S+|https\\S+\", \"\", text)  # Remove URLs\n",
    "    text = re.sub(r\"@\\w+\", \"\", text)  # Remove mentions\n",
    "    text = re.sub(r'[^a-z0-9\\s]', '', text)  # Remove non-alphanumeric\n",
    "    text = re.sub(r'\\s+', ' ', text).strip()  # Remove extra spaces\n",
    "    return text"
   ]
  },
  {
   "cell_type": "code",
   "execution_count": 4,
   "metadata": {},
   "outputs": [],
   "source": [
    "data['tweet'] = data['tweet'].apply(clean_text)\n",
    "data['class'] = data['class'].astype(int)\n"
   ]
  },
  {
   "cell_type": "code",
   "execution_count": 5,
   "metadata": {},
   "outputs": [],
   "source": [
    "vectorizer = TfidfVectorizer(max_features=5000,ngram_range=(1, 2), stop_words='english')\n",
    "X = vectorizer.fit_transform(data['tweet'])\n",
    "y = data['class']\n",
    "\n"
   ]
  },
  {
   "cell_type": "code",
   "execution_count": null,
   "metadata": {},
   "outputs": [],
   "source": [
    "\n",
    "X_train,X_test,y_train,y_test = train_test_split(X,y,test_size=0.2,random_state=42)\n",
    "model = LogisticRegression(class_weight='balanced',max_iter=1000)\n",
    "model.fit(X_train,y_train)\n",
    "y_pred = model.predict(X_test)\n",
    "print(\"Accuracy:\", accuracy_score(y_test, y_pred)*100)\n",
    "\n",
    "print(classification_report(y_test, y_pred, target_names=['Hate Speech', 'Offensive Language', 'Neither']))\n"
   ]
  },
  {
   "cell_type": "code",
   "execution_count": null,
   "metadata": {},
   "outputs": [],
   "source": [
    "from sklearn.metrics import confusion_matrix\n",
    "import seaborn as sns\n",
    "import matplotlib.pyplot as plt\n",
    "conf_matrix = confusion_matrix(y_test, y_pred)\n",
    "\n",
    "# Plot the heatmap\n",
    "plt.figure(figsize=(8, 6))\n",
    "sns.heatmap(conf_matrix, annot=True, fmt='d', cmap='Blues', xticklabels=['Hate Speech', 'Offensive Language', 'Neither'], yticklabels=['Hate Speech', 'Offensive Language', 'Neither'])\n",
    "plt.title('Confusion Matrix Heatmap')\n",
    "plt.xlabel('Predicted Labels')\n",
    "plt.ylabel('True Labels')\n",
    "plt.show()"
   ]
  },
  {
   "cell_type": "code",
   "execution_count": 7,
   "metadata": {},
   "outputs": [],
   "source": [
    "pred_val = {0:\"Hate Speech\",1:\"Offensive Language\",2:\"Neither\"}"
   ]
  },
  {
   "cell_type": "code",
   "execution_count": 8,
   "metadata": {},
   "outputs": [],
   "source": [
    "def predict_hate_speech(tweet):\n",
    "    cleaned_tweet = clean_text(tweet)\n",
    "    vectorized_tweet = vectorizer.transform([cleaned_tweet])\n",
    "    prediction = model.predict(vectorized_tweet)[0]\n",
    "    # return class_mapping[prediction]\n",
    "    return pred_val[prediction]"
   ]
  },
  {
   "cell_type": "code",
   "execution_count": 9,
   "metadata": {},
   "outputs": [],
   "source": [
    "while True:\n",
    "    user_input = input(\"Enter text to check (or 'end' to exit): \")\n",
    "    if user_input.lower() == 'end':\n",
    "        break\n",
    "    result = predict_hate_speech(user_input)\n",
    "    print(f\"Prediction: {result}\\n\")"
   ]
  },
  {
   "cell_type": "code",
   "execution_count": null,
   "metadata": {},
   "outputs": [],
   "source": [
    "import matplotlib.pyplot as plt\n",
    "\n",
    "# Count the occurrences of each class\n",
    "class_counts = data['class'].value_counts()\n",
    "\n",
    "# Map class numbers to class names\n",
    "class_labels = {0: \"Hate Speech\", 1: \"Offensive Language\", 2: \"Neither\"}\n",
    "class_counts.index = class_counts.index.map(class_labels)\n",
    "\n",
    "# Plotting the bar chart\n",
    "plt.figure(figsize=(8, 5))\n",
    "class_counts.plot(kind='bar', color=['red', 'orange', 'blue'])\n",
    "plt.title(\"Distribution of Classes in the Dataset\", fontsize=14)\n",
    "plt.xlabel(\"Class\", fontsize=12)\n",
    "plt.ylabel(\"Count\", fontsize=12)\n",
    "plt.xticks(rotation=0, fontsize=10)\n",
    "plt.yticks(fontsize=10)\n",
    "plt.grid(axis='y', linestyle='--', alpha=0.7)\n",
    "plt.tight_layout()\n",
    "\n",
    "# Save or show the plot\n",
    "# plt.savefig(\"class_distribution.png\")  # Save as an image file (optional)\n",
    "plt.show()\n"
   ]
  },
  {
   "cell_type": "code",
   "execution_count": null,
   "metadata": {},
   "outputs": [],
   "source": [
    "from sklearn.metrics import confusion_matrix\n",
    "import seaborn as sns\n",
    "import matplotlib.pyplot as plt\n",
    "\n",
    "cm = confusion_matrix(y_test, y_pred)\n",
    "sns.heatmap(cm, annot=True, fmt='d', cmap='Blues', xticklabels=pred_val.values(), yticklabels=pred_val.values())\n",
    "plt.ylabel('Actual')\n",
    "plt.xlabel('Predicted')\n",
    "plt.title('Confusion Matrix')\n",
    "plt.show()\n"
   ]
  },
  {
   "cell_type": "code",
   "execution_count": 11,
   "metadata": {},
   "outputs": [],
   "source": [
    "# UnComment this to save this model\n",
    "\n",
    "# import pickle\n",
    "# with open(\"hate_speech_model.pkl\",\"wb\") as model_file:\n",
    "#     pickle.dump(model,model_file)\n",
    "    \n",
    "# with open(\"tfidf_vectorizer.pkl\", \"wb\") as vectorizer_file:\n",
    "#     pickle.dump(vectorizer, vectorizer_file)"
   ]
  },
  {
   "cell_type": "code",
   "execution_count": null,
   "metadata": {},
   "outputs": [],
   "source": [
    "# # # List of test comments\n",
    "test_comments = [\n",
    "    # Examples\n",
    "\n",
    "    \"I can't stand people with black skin! They should all disappear.\",\n",
    "    \"You're worthless because of your race. Go back to where you came from.\",\n",
    "    \"All muslims are terrorists and should be banned.\",\n",
    "    \n",
    "   \n",
    "    \"You're such an idiot, you can't even do anything right!\",\n",
    "    \"Shut up, you moron. Nobody cares about your opinion.\",\n",
    "    \"This project is shit and you are dumb!\",\n",
    "    \n",
    "    \n",
    "    \"My name is Aditya, and I love programming.\",\n",
    "    \"This is a great day to go for a walk!\",\n",
    "    \"I think this topic is very interesting and deserves more attention.\"\n",
    "]\n",
    "\n",
    "# Check each comment and print the prediction\n",
    "print(\"Testing Hate Speech Detection:\")\n",
    "for comment in test_comments:\n",
    "    prediction = predict_hate_speech(comment)\n",
    "    print(f\"Comment: {comment}\")\n",
    "    print(f\"Prediction: {prediction}\")\n",
    "    print(\"-\" * 50)\n"
   ]
  },
  {
   "cell_type": "code",
   "execution_count": null,
   "metadata": {},
   "outputs": [],
   "source": []
  },
  {
   "cell_type": "code",
   "execution_count": null,
   "metadata": {},
   "outputs": [],
   "source": []
  }
 ],
 "metadata": {
  "kernelspec": {
   "display_name": "Python 3",
   "language": "python",
   "name": "python3"
  },
  "language_info": {
   "codemirror_mode": {
    "name": "ipython",
    "version": 3
   },
   "file_extension": ".py",
   "mimetype": "text/x-python",
   "name": "python",
   "nbconvert_exporter": "python",
   "pygments_lexer": "ipython3",
   "version": "3.11.9"
  }
 },
 "nbformat": 4,
 "nbformat_minor": 2
}
